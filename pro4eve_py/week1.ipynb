{
 "cells": [
  {
   "cell_type": "markdown",
   "metadata": {},
   "source": [
    "# Python for the first time"
   ]
  },
  {
   "cell_type": "markdown",
   "metadata": {},
   "source": [
    "## Elementos de Python\n",
    "<ul>\n",
    " \n",
    "<li> **Vocabulario/Palabras** : Variables y palabras reservadas</li>\n",
    "<li> **Estructura de una oracion** :  sintazis valida</li>\n",
    "<li> **Estructura de una historia** : construir un programa con un proposito</li>\n",
    "\n",
    "</ul>"
   ]
  },
  {
   "cell_type": "code",
   "execution_count": 1,
   "metadata": {},
   "outputs": [
    {
     "name": "stdout",
     "output_type": "stream",
     "text": [
      "4\n"
     ]
    }
   ],
   "source": [
    "x = 2 #Assignment statement\n",
    "x = x + 2 #assigment with expression\n",
    "print(x) #print function"
   ]
  },
  {
   "cell_type": "markdown",
   "metadata": {},
   "source": [
    "- condtional steps\n",
    "- repetead steps"
   ]
  },
  {
   "cell_type": "markdown",
   "metadata": {},
   "source": [
    "Constants - Nunca cambian\n",
    "Variable - es un espacio en la memoria donde se guarda un dato\n",
    "PEMDAS\n",
    "Type matters - no puedes sumar un string con un int\n",
    "type conversions \n",
    "string conversions\n"
   ]
  }
 ],
 "metadata": {
  "kernelspec": {
   "display_name": "Python 3",
   "language": "python",
   "name": "python3"
  },
  "language_info": {
   "codemirror_mode": {
    "name": "ipython",
    "version": 3
   },
   "file_extension": ".py",
   "mimetype": "text/x-python",
   "name": "python",
   "nbconvert_exporter": "python",
   "pygments_lexer": "ipython3",
   "version": "3.7.4"
  }
 },
 "nbformat": 4,
 "nbformat_minor": 2
}
